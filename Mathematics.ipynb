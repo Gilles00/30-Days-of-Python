{
  "nbformat": 4,
  "nbformat_minor": 0,
  "metadata": {
    "colab": {
      "provenance": [],
      "authorship_tag": "ABX9TyOvpTJhtcpVxj64RKZEh0xF",
      "include_colab_link": true
    },
    "kernelspec": {
      "name": "python3",
      "display_name": "Python 3"
    },
    "language_info": {
      "name": "python"
    }
  },
  "cells": [
    {
      "cell_type": "markdown",
      "metadata": {
        "id": "view-in-github",
        "colab_type": "text"
      },
      "source": [
        "<a href=\"https://colab.research.google.com/github/Gilles00/30-Days-of-Python/blob/master/Mathematics.ipynb\" target=\"_parent\"><img src=\"https://colab.research.google.com/assets/colab-badge.svg\" alt=\"Open In Colab\"/></a>"
      ]
    },
    {
      "cell_type": "code",
      "source": [
        "import numpy as np"
      ],
      "metadata": {
        "id": "V6GJ68K3p5CW"
      },
      "execution_count": 2,
      "outputs": []
    },
    {
      "cell_type": "code",
      "execution_count": 5,
      "metadata": {
        "colab": {
          "base_uri": "https://localhost:8080/"
        },
        "id": "_hjr6Cc7lP_t",
        "outputId": "f7551bde-dd9d-427a-f83f-ae2a91b695c0"
      },
      "outputs": [
        {
          "output_type": "execute_result",
          "data": {
            "text/plain": [
              "array([ 5, -2,  4])"
            ]
          },
          "metadata": {},
          "execution_count": 5
        }
      ],
      "source": [
        "# vectors\n",
        "v = np.array([5,-2,4])\n",
        "v"
      ]
    },
    {
      "cell_type": "code",
      "source": [
        "# matrices\n",
        "m = np.array([[5,12],[-3,0]])\n",
        "m"
      ],
      "metadata": {
        "colab": {
          "base_uri": "https://localhost:8080/"
        },
        "id": "MK_fe_S1pyVY",
        "outputId": "85e090fa-66ea-49f3-d1aa-2c47f424cf62"
      },
      "execution_count": 4,
      "outputs": [
        {
          "output_type": "execute_result",
          "data": {
            "text/plain": [
              "array([[ 5, 12],\n",
              "       [-3,  0]])"
            ]
          },
          "metadata": {},
          "execution_count": 4
        }
      ]
    },
    {
      "cell_type": "code",
      "source": [
        "# Row Vector\n",
        "v.reshape(1,3)"
      ],
      "metadata": {
        "colab": {
          "base_uri": "https://localhost:8080/"
        },
        "id": "FMol5YxkqVL9",
        "outputId": "67558f39-dcda-42dc-b339-ba444b1bc2f2"
      },
      "execution_count": 6,
      "outputs": [
        {
          "output_type": "execute_result",
          "data": {
            "text/plain": [
              "array([[ 5, -2,  4]])"
            ]
          },
          "metadata": {},
          "execution_count": 6
        }
      ]
    },
    {
      "cell_type": "code",
      "source": [
        "# Tensor is a collection of matrices\n",
        "m1 = np.array([[5,12,6],[-3,0,14]])\n",
        "m2 = np.array([[9,8,7],[1,3,-5]])\n",
        "t = np.array([m1,m2])\n",
        "t"
      ],
      "metadata": {
        "colab": {
          "base_uri": "https://localhost:8080/"
        },
        "id": "GZC3toOhqjsk",
        "outputId": "2832daf0-b154-4f11-f1fa-136a00f3d8fa"
      },
      "execution_count": 7,
      "outputs": [
        {
          "output_type": "execute_result",
          "data": {
            "text/plain": [
              "array([[[ 5, 12,  6],\n",
              "        [-3,  0, 14]],\n",
              "\n",
              "       [[ 9,  8,  7],\n",
              "        [ 1,  3, -5]]])"
            ]
          },
          "metadata": {},
          "execution_count": 7
        }
      ]
    },
    {
      "cell_type": "code",
      "source": [
        "# Adding Vectors\n",
        "v1 = np.array([1,2,3,4,5])\n",
        "v2 = np.array([5,4,3,2,1])\n",
        "v1 + v2"
      ],
      "metadata": {
        "colab": {
          "base_uri": "https://localhost:8080/"
        },
        "id": "OkzmuYn25CqG",
        "outputId": "dd676fee-8251-4b2f-cc8d-a13b52ce7722"
      },
      "execution_count": 8,
      "outputs": [
        {
          "output_type": "execute_result",
          "data": {
            "text/plain": [
              "array([6, 6, 6, 6, 6])"
            ]
          },
          "metadata": {},
          "execution_count": 8
        }
      ]
    },
    {
      "cell_type": "code",
      "source": [
        "# Adding Vectors with a scalar\n",
        "v1 + 1"
      ],
      "metadata": {
        "colab": {
          "base_uri": "https://localhost:8080/"
        },
        "id": "zbwpbxSK5QVS",
        "outputId": "74aeb7ca-3e81-46e4-c40b-d75a7d45fb88"
      },
      "execution_count": 10,
      "outputs": [
        {
          "output_type": "execute_result",
          "data": {
            "text/plain": [
              "array([2, 3, 4, 5, 6])"
            ]
          },
          "metadata": {},
          "execution_count": 10
        }
      ]
    },
    {
      "cell_type": "code",
      "source": [],
      "metadata": {
        "id": "cwzh6ltj5ZRK"
      },
      "execution_count": null,
      "outputs": []
    }
  ]
}